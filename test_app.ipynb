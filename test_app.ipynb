{
 "cells": [
  {
   "cell_type": "code",
   "execution_count": 6,
   "metadata": {},
   "outputs": [],
   "source": [
    "import pandas as pd\n",
    "import re\n",
    "import numpy as np\n",
    "from tensorflow.keras.preprocessing.sequence import pad_sequences\n",
    "import pickle\n",
    "from keras.models import load_model"
   ]
  },
  {
   "cell_type": "code",
   "execution_count": 7,
   "metadata": {},
   "outputs": [],
   "source": [
    "def preprocessing(x):\n",
    "    x = x.lower()\n",
    "    x = re.sub('\\[(.*?)\\]', '', x)\n",
    "    x = re.sub('[\\n]{2,}', '\\n',x)\n",
    "    x = re.sub(\"[^a-z\\'\\s\\n]\",'',x)\n",
    "    x = re.sub('[\\n]', ' *newline* ',x)\n",
    "    x = re.sub('^\\s','',x)\n",
    "    x = re.sub('[\\s]{2,}', ' ',x)\n",
    "    out =np.array( x.split(' ') )\n",
    "    out = out[out!= '']\n",
    "    return out "
   ]
  },
  {
   "cell_type": "code",
   "execution_count": 8,
   "metadata": {},
   "outputs": [],
   "source": [
    "index_to_word =  pickle.load( open( \"index_to_word.p\", \"rb\" ) )\n",
    "word_to_index =  pickle.load( open( \"word_to_index.p\", \"rb\" ) )"
   ]
  },
  {
   "cell_type": "code",
   "execution_count": 9,
   "metadata": {},
   "outputs": [],
   "source": [
    "model_load = load_model('mAIchael_buble')\n",
    "\n",
    "def make_lyrics( input, n_words):\n",
    "    input_p = preprocessing(input)\n",
    "    for i in range(n_words):\n",
    "        input_pad = pad_sequences( [[word_to_index[word] if word in word_to_index.keys() else 0  for word in input_p ]] , maxlen = 30, padding='pre')\n",
    "        predict = model_load.predict_classes(input_pad, verbose=0)[0]\n",
    "        if index_to_word[predict] == '*newline*':\n",
    "            input = input + '\\n'\n",
    "        else:\n",
    "            input = input +' '+ index_to_word[predict] \n",
    "        input_p = np.append(input_p, index_to_word[predict])\n",
    "    return input"
   ]
  },
  {
   "cell_type": "code",
   "execution_count": 10,
   "metadata": {},
   "outputs": [
    {
     "name": "stdout",
     "output_type": "stream",
     "text": [
      "WARNING:tensorflow:From <ipython-input-9-45ed995a0a18>:7: Sequential.predict_classes (from tensorflow.python.keras.engine.sequential) is deprecated and will be removed after 2021-01-01.\n",
      "Instructions for updating:\n",
      "Please use instead:* `np.argmax(model.predict(x), axis=-1)`,   if your model does multi-class classification   (e.g. if it uses a `softmax` last-layer activation).* `(model.predict(x) > 0.5).astype(\"int32\")`,   if your model does binary classification   (e.g. if it uses a `sigmoid` last-layer activation).\n",
      "may this Christmases the fun we had last year\n",
      " christmas pretty lights\n"
     ]
    }
   ],
   "source": [
    "input  = '''may this Christmases'''\n",
    "\n",
    "print(make_lyrics( input, 10))"
   ]
  },
  {
   "cell_type": "code",
   "execution_count": 11,
   "metadata": {},
   "outputs": [
    {
     "name": "stdout",
     "output_type": "stream",
     "text": [
      " * Serving Flask app \"__main__\" (lazy loading)\n",
      " * Environment: production\n",
      "   WARNING: This is a development server. Do not use it in a production deployment.\n",
      "   Use a production WSGI server instead.\n",
      " * Debug mode: off\n"
     ]
    },
    {
     "name": "stderr",
     "output_type": "stream",
     "text": [
      " * Running on http://127.0.0.1:5000/ (Press CTRL+C to quit)\n",
      "127.0.0.1 - - [07/Dec/2020 21:42:37] \"\u001b[37mPOST / HTTP/1.1\u001b[0m\" 200 -\n",
      "127.0.0.1 - - [07/Dec/2020 21:42:56] \"\u001b[37mPOST / HTTP/1.1\u001b[0m\" 200 -\n"
     ]
    }
   ],
   "source": [
    "from flask import Flask, request, render_template\n",
    "\n",
    "app = Flask(__name__)\n",
    "\n",
    "@app.route('/')\n",
    "def my_form():\n",
    "    method = request.method\n",
    "    return render_template('index.html', method= method)\n",
    "\n",
    "@app.route('/', methods=['POST'])\n",
    "def my_form_post():\n",
    "    text = request.form['text']\n",
    "    processed_text =  make_lyrics( text, 100)\n",
    "    \n",
    "    song = processed_text.replace('\\n', '<br>')\n",
    "    method = request.method\n",
    "    \n",
    "    return render_template('index.html', method= method, song = song)\n",
    "\n",
    "\n",
    "app.run()"
   ]
  },
  {
   "cell_type": "code",
   "execution_count": null,
   "metadata": {},
   "outputs": [],
   "source": []
  },
  {
   "cell_type": "code",
   "execution_count": null,
   "metadata": {},
   "outputs": [],
   "source": []
  },
  {
   "cell_type": "code",
   "execution_count": null,
   "metadata": {},
   "outputs": [],
   "source": []
  }
 ],
 "metadata": {
  "kernelspec": {
   "display_name": "Python 3",
   "language": "python",
   "name": "python3"
  }
 },
 "nbformat": 4,
 "nbformat_minor": 2
}
